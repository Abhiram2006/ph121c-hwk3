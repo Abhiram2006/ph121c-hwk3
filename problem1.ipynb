{
 "cells": [
  {
   "cell_type": "code",
   "execution_count": null,
   "id": "52aa6c81-5a0b-44cb-885e-cd743ebc0300",
   "metadata": {
    "tags": []
   },
   "outputs": [],
   "source": [
    "import numpy as np\n",
    "import matplotlib.pyplot as plt\n",
    "import scipy\n",
    "from tqdm import tqdm\n",
    "import time\n",
    "import sys\n",
    "import os\n",
    "from multiprocessing import Pool\n",
    "from functools import partial\n",
    "directory = 'figures'\n",
    "if not os.path.exists(directory):\n",
    "    os.makedirs(directory)\n",
    "from concurrent.futures import ProcessPoolExecutor, as_completed\n",
    "from tqdm.notebook import tqdm\n",
    "import numpy as np\n",
    "from dask.distributed import Client, progress, LocalCluster\n",
    "from dask import compute, delayed\n",
    "import dask.array as da\n",
    "from dask.diagnostics import ProgressBar\n",
    "plt.rcParams['figure.dpi']=400"
   ]
  },
  {
   "cell_type": "markdown",
   "id": "0dd4d9d8-4624-4723-a738-9ed7d789bbd0",
   "metadata": {},
   "source": [
    "# Problem 4.1"
   ]
  },
  {
   "cell_type": "markdown",
   "id": "076bc48e-425e-4e20-ab27-3e533a517065",
   "metadata": {},
   "source": [
    "### Hamiltonian"
   ]
  },
  {
   "cell_type": "code",
   "execution_count": null,
   "id": "df4cac36-095e-409b-91cc-bca2fc7b503c",
   "metadata": {},
   "outputs": [],
   "source": [
    "def denseH(L, J, hx, hz, periodic):\n",
    "    \"\"\"\n",
    "    generates the dense Hamiltonian matrix for the quantum Ising chain with both transverse and longitudinal magnetic fields\n",
    "    \n",
    "        Parameters:\n",
    "            L (int): length of chain\n",
    "            J (float): ising interaction strength\n",
    "            h (float): magnetic field strength\n",
    "            periodic (bool): does the chain have periodic boundary conditions?\n",
    "            \n",
    "        Returns:\n",
    "            H (ndarray): 2^L x 2^L matrix representing the Hamiltonian operator\n",
    "    \"\"\"\n",
    "\n",
    "    dim=2 ** L # dimensions of the Hilbert space\n",
    "    \n",
    "    H = np.zeros((dim, dim)) # initliaze the Hamiltonian\n",
    "    \n",
    "    \"Calculation of off-diagonal elements due to the magnetic field\"\n",
    "    \n",
    "    for beta in range(dim): # iterate over all states\n",
    "        \n",
    "        for j in range(1,L+1): # iterate over all sites\n",
    "            \n",
    "            alpha = beta ^ (1<<j-1) # flips jth bit of beta to get the state alpha that is related to beta by a single bit flip\n",
    "            \n",
    "            H[alpha, beta] -= hx # contribution by sigma^j_x\n",
    "            \n",
    "    \"Calculation of diagonal elements due to Ising interaction\"\n",
    "\n",
    "    for alpha in range(dim): # iterate over all states\n",
    "        \n",
    "        for j in range(1, L): # iterate over all sites\n",
    "            \n",
    "            if 2*(alpha & (1 << j-1)) == alpha & (1 << j): # check if site j and j+1 have the same spin\n",
    "                \n",
    "                H[alpha, alpha] -= J # if they do, decrease the energy by the ising interaction term\n",
    "                \n",
    "            else:\n",
    "                \n",
    "                H[alpha, alpha] += J # if not, increase the energy by the ising interaction term\n",
    "            \n",
    "        \"Diagonal elements due to longitudinal magnetic field\"\n",
    "        \n",
    "        for j in range(1, L+1):\n",
    "            \n",
    "            if alpha & (1 << (j-1)) == 0:  # check if the spin at site j is up\n",
    "                H[alpha, alpha] -= hz  # decrease energy for spin up\n",
    "                \n",
    "            else:\n",
    "                H[alpha, alpha] += hz  # increase energy for spin down\n",
    "\n",
    "        \n",
    "        \"Handling case of periodic boundary conditions\"\n",
    "                \n",
    "        if periodic and L > 1: # L > 1 needed for periodicity to mean anything\n",
    "            \n",
    "            if (alpha & (1 << L-1)) == ((alpha & (1 << 0))*(2**(L-1))): # Check if the states at either end have the same spin\n",
    "                \n",
    "                H[alpha, alpha] -= J # if they do, decrease the energy by the ising interaction term\n",
    "                \n",
    "            else:\n",
    "                \n",
    "                H[alpha, alpha] += J # if not, increase the energy by the ising interaction term\n",
    "                \n",
    "    return H   \n",
    "\n",
    "def diagonalize(Ls, J, hx, hz, periodic):\n",
    "    \n",
    "    eigss = []\n",
    "    vecss = []\n",
    "    \n",
    "    for L in Ls:\n",
    "        H = denseH(L, J, hx, hz, periodic)\n",
    "        eigs, vecs = scipy.linalg.eigh(H)\n",
    "        eigss.append(eigs)\n",
    "        vecss.append(vecs)\n",
    "    \n",
    "    return eigss, vecss"
   ]
  },
  {
   "cell_type": "markdown",
   "id": "bb2f0150-bc2e-4582-ba7d-22e48578646b",
   "metadata": {},
   "source": [
    "### Diagonalizing the wave function right now, so I dont have to do it again"
   ]
  },
  {
   "cell_type": "code",
   "execution_count": null,
   "id": "02ce1e0d-8f2b-4368-8f63-4d775ae8b8b1",
   "metadata": {
    "tags": []
   },
   "outputs": [],
   "source": [
    "Ls = [6, 8, 10, 12, 14]\n",
    "J = 1\n",
    "hx = -1.05\n",
    "hz = 0.5\n",
    "periodic = True \n",
    "\n",
    "start_time = time.time()\n",
    "eigss, vecss = diagonalize(Ls, J, hx, hz, periodic)\n",
    "end_time = time.time()\n",
    "print('time taken:', end_time-start_time)"
   ]
  },
  {
   "cell_type": "markdown",
   "id": "e948c30f-b6eb-4ca6-8914-d1e973ea486a",
   "metadata": {},
   "source": [
    "# Problem 4.1.1"
   ]
  },
  {
   "cell_type": "markdown",
   "id": "61fa9456-6c2a-48aa-bfa5-97dd91f7f891",
   "metadata": {},
   "source": [
    "### Translation-invariant product state wave function"
   ]
  },
  {
   "cell_type": "code",
   "execution_count": null,
   "id": "bddf374f-e753-4d02-8cdb-72c68dde123f",
   "metadata": {},
   "outputs": [],
   "source": [
    "eps = np.array([[1/2],[-np.sqrt(3)/2]])\n",
    "\n",
    "def psi_initial(L):\n",
    "\n",
    "    psi_0 = eps\n",
    "    for _ in range(1, L):\n",
    "        psi_0 = np.kron(psi_0, eps)\n",
    "    \n",
    "    return psi_0\n",
    "print(psi_initial(2))"
   ]
  },
  {
   "cell_type": "markdown",
   "id": "08647597-e109-4dc1-9730-4d63630d56a3",
   "metadata": {},
   "source": [
    "### Matrix elements of the spin operators"
   ]
  },
  {
   "cell_type": "code",
   "execution_count": null,
   "id": "894691aa-966c-4d71-844f-aad29de607ee",
   "metadata": {
    "tags": []
   },
   "outputs": [],
   "source": [
    "def sigma(mu, vecs):\n",
    "    \n",
    "    N = len(vecs)\n",
    "    \n",
    "    sigma_vecs = np.zeros((len(vecs[0]), N), dtype = complex)\n",
    "    \n",
    "    for i in range(N):\n",
    "        \n",
    "        vec = vecs[:, i]\n",
    "\n",
    "        for alpha in range(len(vec)):\n",
    "        \n",
    "            if mu == 'z':\n",
    "                if alpha & 1 :\n",
    "                    sigma_vecs[alpha, i] -= vec[alpha]\n",
    "                else:\n",
    "                    sigma_vecs[alpha, i] = vec[alpha]\n",
    "                    \n",
    "            elif mu == 'y':\n",
    "                beta = alpha ^ 1 \n",
    "                \n",
    "                if alpha & 1:\n",
    "                    sigma_vecs[beta, i] = -1j * vec[alpha]\n",
    "                else:\n",
    "                    sigma_vecs[beta, i] = 1j * vec[alpha]\n",
    "\n",
    "            elif mu == 'x':\n",
    "                beta = alpha ^ (1 << 0)\n",
    "                sigma_vecs[beta, i] = vec[alpha]\n",
    "\n",
    "    sigma_matrix = np.conj(vecs).T @ sigma_vecs\n",
    "    \n",
    "    return sigma_matriX\n"
   ]
  },
  {
   "cell_type": "markdown",
   "id": "5df207fd-11a0-495f-adba-860d2d6c17db",
   "metadata": {},
   "source": [
    "### Expectation value of the spin operators"
   ]
  },
  {
   "cell_type": "code",
   "execution_count": null,
   "id": "66498bfc-bf07-4344-a7a7-be89664ac1d4",
   "metadata": {},
   "outputs": [],
   "source": [
    "def expectation_value(sigma_matrix, eigs, coeffs, t):\n",
    "\n",
    "    delta_eigs = eigs[:, np.newaxis] - eigs[np.newaxis, :]\n",
    "    \n",
    "    phase_factors = np.exp(-1j * delta_eigs * t)\n",
    "    \n",
    "    coeff_matrix = np.outer(np.conj(coeffs), coeffs)\n",
    "    \n",
    "    total_matrix = coeff_matrix * phase_factors * sigma_matrix\n",
    "    \n",
    "    return np.real(np.sum(total_matrix))"
   ]
  },
  {
   "cell_type": "markdown",
   "id": "4154d6dc-0b6c-4f88-9d48-74ca1db4f295",
   "metadata": {},
   "source": [
    "## Plotting the time traces"
   ]
  },
  {
   "cell_type": "code",
   "execution_count": null,
   "id": "6346e55c-07d3-4de4-8802-8c9f804067bc",
   "metadata": {
    "tags": []
   },
   "outputs": [],
   "source": [
    "dt = 1\n",
    "T = np.arange(0,1e3, dt)\n",
    "\n",
    "plt.figure(figsize=(10, 8))\n",
    "\n",
    "\n",
    "\n",
    "for i in range(len(Ls)-1):\n",
    "    \n",
    "    L = Ls[i]\n",
    "    eigs, vecs = eigss[i], vecss[i]\n",
    "    psi = psi_initial(L)\n",
    "    coeffs = vecs.conj().T @ psi\n",
    "    sigma_matrix = sigma('x', vecs)\n",
    "\n",
    "    Yarray = []\n",
    "    for t in tqdm(T, desc=f'Processing L={L}'):\n",
    "        Yarray.append(expectation_value(sigma_matrix, eigs, coeffs, t))\n",
    "        \n",
    "    xkcd_colors=['xkcd:royal blue', 'xkcd:green', 'xkcd:orange', 'xkcd:hot pink']\n",
    "\n",
    "    # Plot the time evolution\n",
    "    plt.plot(T, Yarray, label=f'L={L}', color=xkcd_colors[i])\n",
    "    \n",
    "\n",
    "plt.axhline(y=sigma_thermal('x', eigs, vecs, 0.374), color='black', linestyle='--', label=f'Eq. Thermal State')\n",
    "\n",
    "\n",
    "plt.xlabel('Time')\n",
    "plt.ylabel(r'Re[$\\langle \\sigma_1^X (t) \\rangle$]')\n",
    "plt.title(r'Time Evolution of $\\sigma_X$ operator')\n",
    "plt.legend()\n",
    "plt.savefig(os.path.join(directory, 'sigmax.png'), dpi=400)\n",
    "plt.show()\n"
   ]
  },
  {
   "cell_type": "code",
   "execution_count": null,
   "id": "36cfe127-e26f-4d9d-996d-ffa03ef8850d",
   "metadata": {
    "tags": []
   },
   "outputs": [],
   "source": [
    "dt = 1\n",
    "T = np.arange(0,1e3, dt)\n",
    "\n",
    "plt.figure(figsize=(10, 8))\n",
    "\n",
    "for i in range(len(Ls)-1):\n",
    "    \n",
    "    L = Ls[i]\n",
    "    eigs, vecs = eigss[i], vecss[i]\n",
    "    psi = psi_initial(L)\n",
    "    coeffs = vecs.conj().T @ psi\n",
    "    sigma_matrix = sigma('y', vecs)\n",
    "\n",
    "    Yarray = []\n",
    "    for t in tqdm(T, desc=f'Processing L={L}'):\n",
    "        Yarray.append(expectation_value(sigma_matrix, eigs, coeffs, t))\n",
    "        \n",
    "    xkcd_colors=['xkcd:royal blue', 'xkcd:green', 'xkcd:orange', 'xkcd:hot pink']\n",
    "\n",
    "    plt.plot(T, Yarray, label=f'L={L}', color=xkcd_colors[i])\n",
    "    \n",
    "\n",
    "\n",
    "plt.axhline(y=sigma_thermal('y', eigs, vecs, 0.374), color='black', linestyle='--', label=f'Eq. Thermal State')\n",
    "\n",
    "\n",
    "plt.xlabel('Time')\n",
    "plt.ylabel(r'Re[$\\langle \\sigma_1^Y (t) \\rangle$]')\n",
    "plt.title(r'Time Evolution of $\\sigma_Y$ operator')\n",
    "plt.legend()\n",
    "plt.savefig(os.path.join(directory, 'sigmay.png'), dpi=400)\n",
    "plt.show()\n"
   ]
  },
  {
   "cell_type": "code",
   "execution_count": null,
   "id": "50a2cac1-cb86-4911-afc0-ae35a954120b",
   "metadata": {
    "tags": []
   },
   "outputs": [],
   "source": [
    "dt = 1\n",
    "T = np.arange(0,1e3, dt)\n",
    "\n",
    "plt.figure(figsize=(10, 8))\n",
    "\n",
    "for i in range(len(Ls)-1):\n",
    "    \n",
    "    L = Ls[i]\n",
    "    eigs, vecs = eigss[i], vecss[i]\n",
    "    psi = psi_initial(L)\n",
    "    coeffs = vecs.conj().T @ psi\n",
    "    sigma_matrix = sigma('z', vecs)\n",
    "\n",
    "    Yarray = []\n",
    "    for t in tqdm(T, desc=f'Processing L={L}'):\n",
    "        Yarray.append(expectation_value(sigma_matrix, eigs, coeffs, t))\n",
    "        \n",
    "    xkcd_colors=['xkcd:royal blue', 'xkcd:green', 'xkcd:orange', 'xkcd:hot pink']\n",
    "\n",
    "    # Plot the time evolution\n",
    "    plt.plot(T, Yarray, label=f'L={L}', color=xkcd_colors[i])\n",
    "    \n",
    "\n",
    "plt.axhline(y=sigma_thermal('z', eigs, vecs, 0.374), color='black', linestyle='--', label=f'Eq. Thermal State')\n",
    "\n",
    "\n",
    "plt.xlabel('Time')\n",
    "plt.ylabel(r'Re[$\\langle \\sigma_1^Z (t) \\rangle$]')\n",
    "plt.title(r'Time Evolution of $\\sigma_Z$ operator')\n",
    "plt.legend()\n",
    "plt.savefig(os.path.join(directory, 'sigmaz.png'), dpi=400)\n",
    "plt.show()\n"
   ]
  },
  {
   "cell_type": "markdown",
   "id": "7038628c-47b0-49ff-8577-73034002d396",
   "metadata": {
    "tags": []
   },
   "source": [
    "# Problem 4.1.2"
   ]
  },
  {
   "cell_type": "code",
   "execution_count": null,
   "id": "082c9ed3-59dc-4d2f-84b6-cb8c1d35a056",
   "metadata": {
    "tags": []
   },
   "outputs": [],
   "source": [
    "def thermal_state_energy(beta, eigs):\n",
    "    \n",
    "    Z = np.sum(np.exp(-beta*eigs))\n",
    "    \n",
    "    P = np.sum(np.exp(-beta*eigs)*eigs)\n",
    "    \n",
    "    return P/Z\n",
    "\n",
    "\n",
    "def compute_thermal_energies(L, J, hx, hz, periodic, betas, eigs):\n",
    "    psi = psi_initial(L)\n",
    "    \n",
    "    H = denseH(L, J, hx, hz, periodic)\n",
    "    E = psi.T @ H @ psi\n",
    "    \n",
    "    energies = []\n",
    "    min_diff = float('inf')\n",
    "    best_beta = None\n",
    "\n",
    "    for beta in betas:\n",
    "        E_beta = thermal_state_energy(beta, eigs)\n",
    "        diff = abs(E_beta - E)\n",
    "        energies.append(E_beta)\n",
    "        if diff < min_diff:\n",
    "            min_diff = diff\n",
    "            best_beta = beta\n",
    "\n",
    "    print(f'Best beta for L={L}: {best_beta} with energy difference: {min_diff}')\n",
    "    return energies, E\n",
    "\n",
    "# betas = np.linspace(0.37, 0.375, 100)\n",
    "betas = np.linspace(0, 1, 100)\n",
    "\n",
    "all_energies = []\n",
    "initial_energies = []\n",
    "\n",
    "for i in range(len(Ls)):\n",
    "    energies, E = compute_thermal_energies(Ls[i], J, hx, hz, periodic, betas, eigss[i])\n",
    "    all_energies.append(energies)\n",
    "    initial_energies.append(E)\n",
    "    \n",
    "xkcd_colors=['xkcd:royal blue', 'xkcd:green', 'xkcd:orange', 'xkcd:hot pink', 'xkcd:indigo']\n",
    "plt.figure(figsize=(10, 6))\n",
    "for i, energies in enumerate(all_energies):\n",
    "    plt.plot(betas, energies, label=f'L={Ls[i]}', color=xkcd_colors[i])\n",
    "    plt.axhline(y=initial_energies[i], linestyle='dashdot', color=xkcd_colors[i])\n",
    "\n",
    "plt.title('Thermal state energy vs. beta for different L')\n",
    "plt.xlabel(r'$\\beta$')\n",
    "plt.ylabel(r'$E_\\beta$')\n",
    "plt.legend()\n",
    "plt.savefig(os.path.join(directory, 'betas.png'), dpi=400)\n",
    "plt.show()\n",
    "\n",
    "\n"
   ]
  },
  {
   "cell_type": "markdown",
   "id": "5b698e80-259c-466b-98eb-a555f53d50bc",
   "metadata": {},
   "source": [
    "### Thermal Value of the observables"
   ]
  },
  {
   "cell_type": "code",
   "execution_count": null,
   "id": "471592b2-4dc1-4243-a22d-2cd9c3d92053",
   "metadata": {
    "tags": []
   },
   "outputs": [],
   "source": [
    "def sigma_thermal(mu, eigs, vecs, beta_th):\n",
    "    sigma_matrix = sigma(mu, vecs)  # Get the sigma matrix for the given mu\n",
    "\n",
    "    N = len(vecs)\n",
    "    \n",
    "    P = 0.0\n",
    "    Z = 0.0\n",
    "    \n",
    "    for n in range(N):\n",
    "        Z += np.exp(-beta_th * eigs[n])  # Calculate the partition function\n",
    "        \n",
    "        P += sigma_matrix[n, n] * np.exp(-beta_th * eigs[n])\n",
    "    \n",
    "    return P / Z"
   ]
  },
  {
   "cell_type": "markdown",
   "id": "b73ac4d3-6376-437c-b63e-b88bf08ae9c6",
   "metadata": {},
   "source": [
    "### 4.1.3 Entanglement entropy"
   ]
  },
  {
   "cell_type": "code",
   "execution_count": null,
   "id": "9ac7468b-d0b3-4c76-90ab-a8e5f27284b0",
   "metadata": {
    "tags": []
   },
   "outputs": [],
   "source": [
    "def entanglement_entropy(L, l, coeffs, eigs, t):\n",
    "        \n",
    "    coeffs_new = coeffs * np.exp(-1j * eigs * t).reshape(-1, 1)\n",
    "    coeffs_matrix = coeffs_new.reshape(2**l, 2**(L-l))\n",
    "    u, s, vh = np.linalg.svd(coeffs_matrix, compute_uv=True)\n",
    "    lambdas = s**2\n",
    "    \n",
    "    S = -np.sum(lambdas * np.log(lambdas))\n",
    "    \n",
    "    return S"
   ]
  },
  {
   "cell_type": "code",
   "execution_count": null,
   "id": "4c9c2509-b557-4b7d-8a4d-f1a5a3c2db61",
   "metadata": {
    "tags": []
   },
   "outputs": [],
   "source": [
    "dt = .1\n",
    "T = np.arange(0,1e2, dt)\n",
    "\n",
    "plt.figure(figsize=(10, 8))\n",
    "\n",
    "\n",
    "\n",
    "for i in range(1, len(Ls)):\n",
    "    \n",
    "    L = Ls[i]\n",
    "    eigs, vecs = eigss[i], vecss[i]\n",
    "    psi = psi_initial(L)\n",
    "    coeffs = vecs.conj().T @ psi\n",
    "        \n",
    "    Yarray = []\n",
    "    for t in tqdm(T, desc=f'Processing L={L}'):\n",
    "        Yarray.append(entanglement_entropy(L, L//2, coeffs, eigs, t))\n",
    "        \n",
    "    xkcd_colors=['xkcd:royal blue', 'xkcd:green', 'xkcd:orange', 'xkcd:hot pink', 'xkcd:indigo']\n",
    "\n",
    "    plt.plot(T, Yarray, label=f'L={L}', color=xkcd_colors[i])\n",
    "    \n",
    "\n",
    "\n",
    "\n",
    "plt.xlabel('Time')\n",
    "plt.ylabel(r'S(L/2)')\n",
    "plt.title(r'Time Evolution of the entanglement entropy for $\\langle \\psi \\rangle$')\n",
    "plt.legend()\n",
    "plt.savefig(os.path.join(directory, 'entropy_psi.png'), dpi=400)\n",
    "plt.show()\n"
   ]
  },
  {
   "cell_type": "markdown",
   "id": "2a8f55a2-52fe-4bc7-ab56-31a06b2a3150",
   "metadata": {},
   "source": [
    "### New product state"
   ]
  },
  {
   "cell_type": "code",
   "execution_count": null,
   "id": "4f879b4a-623c-44bb-be2f-e73d76cbe095",
   "metadata": {
    "tags": []
   },
   "outputs": [],
   "source": [
    "def random_vector():\n",
    "\n",
    "    v = np.random.randn(2, 1)\n",
    "    norm_v = np.linalg.norm(v)\n",
    "    return v / norm_v\n",
    "\n",
    "def random_product_state(L):\n",
    "\n",
    "    product_state = random_vector()\n",
    "    \n",
    "    for _ in range(1, L):\n",
    "        next_vector = random_vector()\n",
    "        product_state = np.kron(product_state, next_vector)\n",
    "    \n",
    "    return product_state\n",
    "\n"
   ]
  },
  {
   "cell_type": "code",
   "execution_count": null,
   "id": "af57bfe1-1868-4e45-b347-7cd0b321526d",
   "metadata": {
    "tags": []
   },
   "outputs": [],
   "source": [
    "dt = .1\n",
    "T = np.arange(0,1e2, dt)\n",
    "\n",
    "plt.figure(figsize=(10, 8))\n",
    "\n",
    "\n",
    "for i in range(1, len(Ls)):\n",
    "    \n",
    "    L = Ls[i]\n",
    "    eigs, vecs = eigss[i], vecss[i]\n",
    "    psi = random_product_state(L)\n",
    "    coeffs = vecs.conj().T @ psi\n",
    "        \n",
    "    Yarray = []\n",
    "    for t in tqdm(T, desc=f'Processing L={L}'):\n",
    "        Yarray.append(entanglement_entropy(L, L//2, coeffs, eigs, t))\n",
    "        \n",
    "    xkcd_colors=['xkcd:royal blue', 'xkcd:green', 'xkcd:orange', 'xkcd:hot pink', 'xkcd:indigo']\n",
    "\n",
    "    plt.plot(T, Yarray, label=f'L={L}', color=xkcd_colors[i])\n",
    "    \n",
    "\n",
    "\n",
    "\n",
    "plt.xlabel('Time')\n",
    "plt.ylabel(r'S(L/2)')\n",
    "plt.title(r'Time Evolution of the entanglement entropy for a random non-invariant state')\n",
    "plt.legend()\n",
    "plt.savefig(os.path.join(directory, 'entropy_random.png'), dpi=400)\n",
    "plt.show()\n"
   ]
  },
  {
   "cell_type": "code",
   "execution_count": null,
   "id": "9a5112c0-3d5d-422c-bd06-5c607a21bc41",
   "metadata": {},
   "outputs": [],
   "source": [
    "def entanglement_entropy(L, l, coeffs):\n",
    "    coeffs_matrix = coeffs.reshape(2**l, 2**(L-l))\n",
    "    u, s, vh = np.linalg.svd(coeffs_matrix, compute_uv=False)\n",
    "    lambdas = s**2\n",
    "    S = -np.sum(lambdas * np.log(lambdas))\n",
    "    return S"
   ]
  }
 ],
 "metadata": {
  "kernelspec": {
   "display_name": "Python 3 (ipykernel)",
   "language": "python",
   "name": "python3"
  },
  "language_info": {
   "codemirror_mode": {
    "name": "ipython",
    "version": 3
   },
   "file_extension": ".py",
   "mimetype": "text/x-python",
   "name": "python",
   "nbconvert_exporter": "python",
   "pygments_lexer": "ipython3",
   "version": "3.11.8"
  }
 },
 "nbformat": 4,
 "nbformat_minor": 5
}
