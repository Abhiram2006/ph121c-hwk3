{
 "cells": [
  {
   "cell_type": "markdown",
   "id": "0dd4d9d8-4624-4723-a738-9ed7d789bbd0",
   "metadata": {},
   "source": [
    "# Problem 4.1"
   ]
  },
  {
   "cell_type": "code",
   "execution_count": null,
   "id": "df4cac36-095e-409b-91cc-bca2fc7b503c",
   "metadata": {},
   "outputs": [],
   "source": [
    "def denseH(L, J, hx, hz, periodic):\n",
    "    \"\"\"\n",
    "    generates the dense Hamiltonian matrix for the quantum Ising chain with both transverse and longitudinal magnetic fields\n",
    "    \n",
    "        Parameters:\n",
    "            L (int): length of chain\n",
    "            J (float): ising interaction strength\n",
    "            h (float): magnetic field strength\n",
    "            periodic (bool): does the chain have periodic boundary conditions?\n",
    "            \n",
    "        Returns:\n",
    "            H (ndarray): 2^L x 2^L matrix representing the Hamiltonian operator\n",
    "    \"\"\"\n",
    "\n",
    "    dim=2 ** L # dimensions of the Hilbert space\n",
    "    \n",
    "    H=np.zeros((dim, dim)) # initliaze the Hamiltonian\n",
    "    \n",
    "    \"Calculation of off-diagonal elements due to the magnetic field\"\n",
    "    \n",
    "    for beta in range(dim): # iterate over all states\n",
    "        \n",
    "        for j in range(1,L+1): # iterate over all sites\n",
    "            \n",
    "            alpha = beta ^ (1<<j-1) # flips jth bit of beta to get the state alpha that is related to beta by a single bit flip\n",
    "            \n",
    "            H[alpha, beta] -= hx # contribution by sigma^j_x\n",
    "            \n",
    "    \"Calculation of diagonal elements due to Ising interaction\"\n",
    "\n",
    "    for alpha in range(dim): # iterate over all states\n",
    "        \n",
    "        for j in range(1, L): # iterate over all sites\n",
    "            \n",
    "            if 2*(alpha & (1 << j-1)) == alpha & (1 << j): # check if site j and j+1 have the same spin\n",
    "                \n",
    "                H[alpha, alpha] -= J # if they do, decrease the energy by the ising interaction term\n",
    "                \n",
    "            else:\n",
    "                \n",
    "                H[alpha, alpha] += J # if not, increase the energy by the ising interaction term\n",
    "            \n",
    "        \"Diagonal elements due to longitudinal magnetic field\"\n",
    "        \n",
    "        for j in range(1, L+1):\n",
    "            if alpha & (1 << (j-1)) == 0:  # check if the spin at site j is up\n",
    "                H[alpha, alpha] -= hz  # decrease energy for spin up\n",
    "            else:\n",
    "                H[alpha, alpha] += hz  # increase energy for spin down\n",
    "\n",
    "        \n",
    "        \"Handling case of periodic boundary conditions\"\n",
    "                \n",
    "        if periodic and L > 1: # L > 1 needed for periodicity to mean anything\n",
    "            \n",
    "            if (alpha & (1 << L-1)) == ((alpha & (1 << 0))*(2**(L-1))): # Check if the states at either end have the same spin\n",
    "                \n",
    "                H[alpha, alpha] -= J # if they do, decrease the energy by the ising interaction term\n",
    "                \n",
    "            else:\n",
    "                \n",
    "                H[alpha, alpha] += J # if not, increase the energy by the ising interaction term\n",
    "                \n",
    "    return H   "
   ]
  },
  {
   "cell_type": "code",
   "execution_count": null,
   "id": "5401b42e-9da8-4f3d-818d-036dd53f435c",
   "metadata": {},
   "outputs": [],
   "source": [
    "hx = -1.05\n",
    "hy = 0.5"
   ]
  }
 ],
 "metadata": {
  "kernelspec": {
   "display_name": "Python 3 (ipykernel)",
   "language": "python",
   "name": "python3"
  },
  "language_info": {
   "codemirror_mode": {
    "name": "ipython",
    "version": 3
   },
   "file_extension": ".py",
   "mimetype": "text/x-python",
   "name": "python",
   "nbconvert_exporter": "python",
   "pygments_lexer": "ipython3",
   "version": "3.11.8"
  }
 },
 "nbformat": 4,
 "nbformat_minor": 5
}
