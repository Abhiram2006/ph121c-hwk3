{
 "cells": [
  {
   "cell_type": "code",
   "execution_count": 1,
   "id": "4bd30b56-d2a2-4efd-9008-ed5299d563ca",
   "metadata": {},
   "outputs": [],
   "source": [
    "import numpy as np\n",
    "import matplotlib.pyplot as plt\n",
    "import scipy\n",
    "from tqdm import tqdm\n",
    "import time\n",
    "import sys\n",
    "import os\n",
    "from multiprocessing import Pool\n",
    "from functools import partial\n",
    "directory = 'figures'\n",
    "if not os.path.exists(directory):\n",
    "    os.makedirs(directory)\n",
    "from concurrent.futures import ProcessPoolExecutor, as_completed\n",
    "from tqdm.notebook import tqdm\n",
    "import numpy as np\n",
    "from dask.distributed import Client, progress, LocalCluster\n",
    "from dask import compute, delayed\n",
    "import dask.array as da\n",
    "from dask.diagnostics import ProgressBar\n",
    "plt.rcParams['figure.dpi']=400"
   ]
  },
  {
   "cell_type": "code",
   "execution_count": null,
   "id": "b0cb1031-4346-4ed2-b5dc-c3fe19134cc9",
   "metadata": {},
   "outputs": [],
   "source": []
  }
 ],
 "metadata": {
  "kernelspec": {
   "display_name": "Python 3 (ipykernel)",
   "language": "python",
   "name": "python3"
  },
  "language_info": {
   "codemirror_mode": {
    "name": "ipython",
    "version": 3
   },
   "file_extension": ".py",
   "mimetype": "text/x-python",
   "name": "python",
   "nbconvert_exporter": "python",
   "pygments_lexer": "ipython3",
   "version": "3.11.8"
  }
 },
 "nbformat": 4,
 "nbformat_minor": 5
}
