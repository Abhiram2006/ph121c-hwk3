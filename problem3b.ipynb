{
 "cells": [
  {
   "cell_type": "code",
   "execution_count": null,
   "id": "4bd30b56-d2a2-4efd-9008-ed5299d563ca",
   "metadata": {},
   "outputs": [],
   "source": [
    "import numpy as np\n",
    "import matplotlib.pyplot as plt\n",
    "import scipy\n",
    "from tqdm import tqdm\n",
    "import time\n",
    "import sys\n",
    "import os\n",
    "from multiprocessing import Pool\n",
    "from functools import partial\n",
    "directory = 'figures'\n",
    "if not os.path.exists(directory):\n",
    "    os.makedirs(directory)\n",
    "from concurrent.futures import ProcessPoolExecutor, as_completed\n",
    "from tqdm.notebook import tqdm\n",
    "import numpy as np\n",
    "from dask.distributed import Client, progress, LocalCluster\n",
    "from dask import compute, delayed\n",
    "import dask.array as da\n",
    "from dask.diagnostics import ProgressBar\n",
    "plt.rcParams['figure.dpi']=400"
   ]
  },
  {
   "cell_type": "code",
   "execution_count": null,
   "id": "b0cb1031-4346-4ed2-b5dc-c3fe19134cc9",
   "metadata": {
    "tags": []
   },
   "outputs": [],
   "source": [
    "def denseH_scar(L, Omega, periodic=True):\n",
    "    \n",
    "    \n",
    "    dim = 2 ** L # dimensions of the Hilbert space\n",
    "    \n",
    "    H = np.zeros((dim, dim)) # initliaze the Hamiltonian\n",
    "    \n",
    "    \"Calculation of off-diagonal elements due to the magnetic field\"\n",
    "    \n",
    "    for beta in range(dim): # iterate over all states\n",
    "        \n",
    "        for j in range(1,L+1): # iterate over all sites\n",
    "            \n",
    "            alpha = beta ^ (1<<j-1) # flips jth bit of beta to get the state alpha that is related to beta by a single bit flip\n",
    "            \n",
    "            H[alpha, beta] += Omega/2 # contribution by sigma^j_x\n",
    "            \n",
    "    \"Calculation of diagonal elements due to Ising interaction\"\n",
    "\n",
    "    for alpha in range(dim): # iterate over all states\n",
    "        \n",
    "        for j in range(1, L-1): # iterate over all sites\n",
    "            \n",
    "            if 2*(alpha & (1 << j-1)) != alpha & (1 << j): # check if site j and j+1 dont have the same spin\n",
    "                \n",
    "                if alpha & (1 << j+1) == 0:\n",
    "                    H[alpha, alpha] += 1/2 # if j+2 is spin up increase energy by 1/2, else decrease\n",
    "                \n",
    "                else:\n",
    "                    H[alpha, alpha] -= 1/2\n",
    "        \n",
    "        if periodic:\n",
    "            \n",
    "            \n",
    "            if 2*(alpha & (1 << L-2)) != (alpha & (1 << L-1)): # Check if the states at site L-1 and L have same spin\n",
    "\n",
    "                    \n",
    "                if alpha & (1 << 0) == 0:\n",
    "                    H[alpha, alpha] += 1/2 # if j+2 is spin up increase energy by 1/2, else decrease\n",
    "                else:\n",
    "                    H[alpha, alpha] -= 1/2 \n",
    "                    \n",
    "            if (alpha & (1 << L-1)) != ((alpha & (1 << 0))*(2**(L-1))): # Check if the states at either end have the same spin\n",
    "                \n",
    "                if alpha & (1 << 1) == 0:\n",
    "                    H[alpha, alpha] += 1/2 # if j+2 is spin up increase energy by 1/2, else decrease\n",
    "                    \n",
    "                else:\n",
    "                    H[alpha, alpha] -= 1/2 \n",
    "\n",
    "\n",
    "    return H\n",
    "\n",
    "def diagonalize(Ls, Omega):\n",
    "    \n",
    "    eigss = []\n",
    "    vecss = []\n",
    "    \n",
    "    for L in Ls:\n",
    "        H = denseH_scar(L, Omega)\n",
    "        eigs, vecs = scipy.linalg.eigh(H)\n",
    "        eigss.append(eigs)\n",
    "        vecss.append(vecs)\n",
    "    \n",
    "    return eigss, vecss"
   ]
  },
  {
   "cell_type": "code",
   "execution_count": null,
   "id": "83ef22fd-3a5e-45f1-92fa-8cda5bafd73c",
   "metadata": {
    "tags": []
   },
   "outputs": [],
   "source": [
    "Ls = [6, 8, 10, 12, 14]\n",
    "Omega = np.pi\n",
    "\n",
    "\n",
    "start_time = time.time()\n",
    "eigss, vecss = diagonalize(Ls, Omega)\n",
    "end_time = time.time()\n",
    "print('time taken:', end_time-start_time)\n"
   ]
  },
  {
   "cell_type": "code",
   "execution_count": null,
   "id": "4753ff9a-88e9-4785-bb7d-c0aed2071062",
   "metadata": {
    "tags": []
   },
   "outputs": [],
   "source": [
    "def entanglement_entropy(L, l, coeffs):\n",
    "    coeffs_matrix = coeffs.reshape(2**l, 2**(L-l))\n",
    "    s = np.linalg.svd(coeffs_matrix, compute_uv=False)\n",
    "    lambdas = s**2\n",
    "    S = -np.sum(lambdas * np.log(lambdas))\n",
    "    return S"
   ]
  },
  {
   "cell_type": "code",
   "execution_count": null,
   "id": "8f8b0100-24cf-4e45-af15-2420a9a5957a",
   "metadata": {
    "tags": []
   },
   "outputs": [],
   "source": [
    "entropies = {}\n",
    "xkcd_colors = ['xkcd:royal blue', 'xkcd:green', 'xkcd:orange', 'xkcd:hot pink', 'xkcd:indigo']\n",
    "\n",
    "for i, L in enumerate(Ls):\n",
    "    entropies_L = []\n",
    "    for vec in tqdm(vecss[i].T, desc=f\"Computing entanglement entropy for L={L}\"):\n",
    "        S = entanglement_entropy(L, L//2, vec)\n",
    "        entropies_L.append(S)\n",
    "    entropies[L] = entropies_L\n",
    "\n",
    "plt.figure(figsize=(12, 8))\n",
    "\n",
    "for i, L in enumerate(Ls):\n",
    "    energies = eigss[i]\n",
    "    entropies_L = np.array(entropies[L])\n",
    "    plt.scatter(energies, entropies_L, label=f'L={L}', color=xkcd_colors[i])\n",
    "\n",
    "    # Calculate and plot vertical lines for the scar states\n",
    "for i, m in enumerate(range(-L//2, L//2 + 1)):\n",
    "    scar_energy = Omega * m\n",
    "    \n",
    "    if i == 0:\n",
    "        plt.axvline(x=scar_energy, color='grey', linestyle='dashdot', linewidth=1, label=f'Expected scar states')\n",
    "    else:\n",
    "        plt.axvline(x=scar_energy, color='grey', linestyle='dashdot', linewidth=1)\n",
    "\n",
    "plt.xlabel('$\\epsilon_n$')\n",
    "plt.ylabel('$S_{L/2}$')\n",
    "plt.legend()\n",
    "plt.title('Entanglement Entropy vs. Energy Density')\n",
    "plt.savefig('entropy_Scar.png', dpi=400)\n",
    "plt.show()"
   ]
  },
  {
   "cell_type": "code",
   "execution_count": null,
   "id": "dd21c021-de76-4c61-87c6-f2f673d516cd",
   "metadata": {
    "tags": []
   },
   "outputs": [],
   "source": [
    "a=[1, 2, 3, 4]"
   ]
  },
  {
   "cell_type": "code",
   "execution_count": null,
   "id": "7730089f-e9c1-46a7-8e6c-5b952d94f6cf",
   "metadata": {
    "tags": []
   },
   "outputs": [],
   "source": [
    "for i, L in enumerate(a[1:]):\n",
    "    print(i)\n",
    "    print(L)\n"
   ]
  },
  {
   "cell_type": "code",
   "execution_count": null,
   "id": "1428b5be-dd35-40f1-97b3-606cdd584707",
   "metadata": {
    "tags": []
   },
   "outputs": [],
   "source": [
    "from scipy.optimize import curve_fit\n",
    "\n",
    "scar_entropies = []\n",
    "L_values = []\n",
    "for i, L in enumerate(Ls):\n",
    "    eigs = eigss[i]  # Eigenvalues for the system size L\n",
    "    vecs = vecss[i]  # Eigenvectors for the system size L\n",
    "    m = 0\n",
    "    scar_energy = Omega * m  # Energy of the scar state with m = 0\n",
    "    index = np.argmin(np.abs(eigs - scar_energy))  # Find the index of the scar state\n",
    "    vec = vecs[:, index]\n",
    "    S = entanglement_entropy(L, L//2, vec)\n",
    "    scar_entropies.append(S)\n",
    "    L_values.append(L)\n",
    "\n",
    "L_values = np.array(L_values)\n",
    "scar_entropies = np.array(scar_entropies)\n",
    "\n",
    "coefficients = np.polyfit(L_values, scar_entropies, 1)\n",
    "linear_fit = np.poly1d(coefficients)\n",
    "\n",
    "plt.figure(figsize=(10, 6))\n",
    "plt.scatter(L_values, scar_entropies, color='red', label='Scar State Entropies')\n",
    "plt.plot(L_values, linear_fit(L_values), label=f'Linear Fit: $S = {coefficients[0]:.2f}L + {coefficients[1]:.2f}$')\n",
    "plt.xlabel('System Size $L$')\n",
    "plt.ylabel('Entanglement Entropy $S_{L/2}$')\n",
    "plt.legend()\n",
    "plt.title('Scaling of Entanglement Entropy for Scar States')\n",
    "plt.savefig('entropy-fit.png', dpi = 400)\n",
    "plt.show()"
   ]
  },
  {
   "cell_type": "code",
   "execution_count": null,
   "id": "50ce50fa-45f0-4658-9a0e-7126440c3e6c",
   "metadata": {
    "tags": []
   },
   "outputs": [],
   "source": [
    "from scipy.optimize import curve_fit\n",
    "\n",
    "scar_entropies = []\n",
    "L_values = []\n",
    "for i, L in enumerate(Ls):\n",
    "    eigs = eigss[i]  # Eigenvalues for the system size L\n",
    "    vecs = vecss[i]  # Eigenvectors for the system size L\n",
    "    m = 2\n",
    "    scar_energy = Omega * m  # Energy of the scar state with m = 0\n",
    "    index = np.argmin(np.abs(eigs - scar_energy))  # Find the index of the scar state\n",
    "    vec = vecs[:, index]\n",
    "    S = entanglement_entropy(L, L//2, vec)\n",
    "    scar_entropies.append(S)\n",
    "    L_values.append(L)\n",
    "\n",
    "L_values = np.array(L_values)\n",
    "scar_entropies = np.array(scar_entropies)\n",
    "\n",
    "# Perform a logarithmic fit\n",
    "log_L_values = np.log(L_values)\n",
    "coefficients = np.polyfit(log_L_values, scar_entropies, 1)\n",
    "log_fit = np.poly1d(coefficients)\n",
    "\n",
    "plt.figure(figsize=(10, 6))\n",
    "plt.scatter(L_values, scar_entropies, color='red', label='Scar State Entropies')\n",
    "plt.plot(L_values, log_fit(log_L_values), label=f'Logarithmic Fit: $S = {coefficients[0]:.2f} \\log(L) + {coefficients[1]:.2f}$')\n",
    "plt.xlabel('System Size $L$')\n",
    "plt.ylabel('Entanglement Entropy $S_{L/2}$')\n",
    "plt.legend()\n",
    "plt.title('Scaling of Entanglement Entropy for Scar States')\n",
    "plt.show()"
   ]
  },
  {
   "cell_type": "code",
   "execution_count": null,
   "id": "b90ac31e-7315-4d6b-a592-5626a19e506e",
   "metadata": {},
   "outputs": [],
   "source": []
  }
 ],
 "metadata": {
  "kernelspec": {
   "display_name": "Python 3 (ipykernel)",
   "language": "python",
   "name": "python3"
  },
  "language_info": {
   "codemirror_mode": {
    "name": "ipython",
    "version": 3
   },
   "file_extension": ".py",
   "mimetype": "text/x-python",
   "name": "python",
   "nbconvert_exporter": "python",
   "pygments_lexer": "ipython3",
   "version": "3.11.8"
  }
 },
 "nbformat": 4,
 "nbformat_minor": 5
}
